{
  "nbformat": 4,
  "nbformat_minor": 0,
  "metadata": {
    "colab": {
      "provenance": [],
      "collapsed_sections": [],
      "authorship_tag": "ABX9TyMy3ZgWVLSgJN6cLfdmux9i",
      "include_colab_link": true
    },
    "kernelspec": {
      "name": "python3",
      "display_name": "Python 3"
    },
    "language_info": {
      "name": "python"
    }
  },
  "cells": [
    {
      "cell_type": "markdown",
      "metadata": {
        "id": "view-in-github",
        "colab_type": "text"
      },
      "source": [
        "<a href=\"https://colab.research.google.com/github/Elman295/Stack_overflow_classification/blob/main/Stack_overflow.ipynb\" target=\"_parent\"><img src=\"https://colab.research.google.com/assets/colab-badge.svg\" alt=\"Open In Colab\"/></a>"
      ]
    },
    {
      "cell_type": "markdown",
      "source": [
        "#`multi-class classification on Stack Overflow questions`\n",
        "\n",
        "The dataset you will work with contains several thousand questions extracted from the much larger public Stack Overflow dataset on BigQuery, which contains more than 17 million posts.\n",
        "\n",
        "train/ <br/>\n",
        "..python/<br/>\n",
        "........0.txt<br/>\n",
        "........1.txt<br/>\n",
        "..javascript/<br/>\n",
        "........0.txt<br/>\n",
        "........1.txt<br>\n",
        "..csharp/,<br/>\n",
        "........0.txt<br/>\n",
        "........1.txt<br/>\n",
        "..java/<br/>\n",
        "........0.txt<br/>\n",
        "........1.txt<br/>\n"
      ],
      "metadata": {
        "id": "NlMILY-ZEoso"
      }
    },
    {
      "cell_type": "code",
      "execution_count": 30,
      "metadata": {
        "id": "QQkJKNmVzS3K"
      },
      "outputs": [],
      "source": [
        "import tensorflow as tf\n",
        "import zipfile\n",
        "import os\n",
        "import matplotlib.pyplot as plt\n",
        "import numpy\n",
        "%matplotlib inline"
      ]
    },
    {
      "cell_type": "markdown",
      "source": [
        "#`preparing the data`"
      ],
      "metadata": {
        "id": "V81JAnlYFqmc"
      }
    },
    {
      "cell_type": "code",
      "source": [
        "with zipfile.ZipFile(\"stack_overflow_16k.zip\",\"r\") as f:\n",
        "  f.extractall(\"data\")"
      ],
      "metadata": {
        "id": "ZygLUTgg3HqY"
      },
      "execution_count": 8,
      "outputs": []
    },
    {
      "cell_type": "code",
      "source": [
        "data = os.path.join(\"data\",\"/content/data/stack_overflow_16k\")\n",
        "os.listdir(data)"
      ],
      "metadata": {
        "colab": {
          "base_uri": "https://localhost:8080/"
        },
        "id": "xpIGVSxA3eBr",
        "outputId": "c49d3924-1dc1-43fd-b8da-0857bf0b13cf"
      },
      "execution_count": 13,
      "outputs": [
        {
          "output_type": "execute_result",
          "data": {
            "text/plain": [
              "['train', 'README.md', 'test']"
            ]
          },
          "metadata": {},
          "execution_count": 13
        }
      ]
    },
    {
      "cell_type": "code",
      "source": [
        "train_dir = os.path.join(data, \"train\")\n",
        "os.listdir(train_dir)"
      ],
      "metadata": {
        "colab": {
          "base_uri": "https://localhost:8080/"
        },
        "id": "laKdNZEF58lg",
        "outputId": "87fac5f1-e27f-4eab-efd3-9e3bd7ff4a07"
      },
      "execution_count": 14,
      "outputs": [
        {
          "output_type": "execute_result",
          "data": {
            "text/plain": [
              "['java', 'javascript', 'csharp', 'python']"
            ]
          },
          "metadata": {},
          "execution_count": 14
        }
      ]
    },
    {
      "cell_type": "code",
      "source": [
        "test_dir = os.path.join(data, \"test\")\n",
        "os.listdir(test_dir)"
      ],
      "metadata": {
        "colab": {
          "base_uri": "https://localhost:8080/"
        },
        "id": "eSoz2tCp6ZV3",
        "outputId": "a6280910-d871-4dc4-ef6f-ac437365eab2"
      },
      "execution_count": 15,
      "outputs": [
        {
          "output_type": "execute_result",
          "data": {
            "text/plain": [
              "['java', 'javascript', 'csharp', 'python']"
            ]
          },
          "metadata": {},
          "execution_count": 15
        }
      ]
    },
    {
      "cell_type": "code",
      "source": [
        "raw_train_ds = tf.keras.utils.text_dataset_from_directory(\n",
        "    directory = train_dir,\n",
        "    validation_split = 0.2,\n",
        "    subset = \"training\",\n",
        "    seed = 32,\n",
        "    batch_size = 32\n",
        ")"
      ],
      "metadata": {
        "colab": {
          "base_uri": "https://localhost:8080/"
        },
        "id": "caExrndj6ive",
        "outputId": "27f150e1-3726-4103-dfc9-9b77316b2e9e"
      },
      "execution_count": 16,
      "outputs": [
        {
          "output_type": "stream",
          "name": "stdout",
          "text": [
            "Found 8000 files belonging to 4 classes.\n",
            "Using 6400 files for training.\n"
          ]
        }
      ]
    },
    {
      "cell_type": "code",
      "source": [
        "for text, labels in raw_train_ds.take(1):\n",
        "  for i in range(10):\n",
        "    print(text.numpy()[i])\n",
        "    print(labels.numpy()[i])"
      ],
      "metadata": {
        "colab": {
          "base_uri": "https://localhost:8080/"
        },
        "id": "Chug9PGhAIHG",
        "outputId": "f0abe20e-ced2-4cc0-9339-583f3d4d6d87"
      },
      "execution_count": 33,
      "outputs": [
        {
          "output_type": "stream",
          "name": "stdout",
          "text": [
            "b'\"overwrite global variables i have two modules:..constants.py..def define_sizes(supersample):    .    global supersample.    global width.    global height.    global line_width..    supersample = supersample.    width = 1280*supersample.    height = 854*supersample.    line_width = 1*supersample..define_sizes(1)...test.py..from constants import *...print(width, height, line_width).# draw something..define_sizes(4)..print(width, height, line_width).# draw the same thing, but bigger...the result is:..1280 854 1.1280 854 1...i would expect to get:..1280 854 1.5120 3416 4...why is that? what am i missing? can i fix it to give expected results?\"\\n'\n",
            "3\n",
            "b'\"blank - recursively create a nested dictionary from a list of other dictionaries i have the following list: ..[.{(\\'pct\\',): ([], \\'0.750000008089\\')}, .{(u\\'gp\\',): (\\'balance\\', \\'\\')}, .{(u\\'uk\\', u\\'uz\\', u\\'uf\\', u\\'us\\', u\\'zu\\'): ([], \\'\\')}, .{(u\\'uk\\', u\\'uz\\'): (\\'balance\\', \\'\\')}, .{(u\\'uf\\', u\\'us\\', u\\'zu\\'): ([], \\'\\')}, .{(u\\'uf\\', u\\'us\\'): (\\'pro rata\\', \\'\\')}, .{(u\\'zu\\',): (\\'zero\\', \\'\\')}, .{(u\\'uk\\', u\\'uz\\'): (\\'zero\\', \\'\\')}, .{(u\\'gp\\',): (\\'zero\\', \\'\\')}, .{(u\\'gf\\',): (\\'zero\\', \\'0.249999991911\\')}.]...and i would like to create a list of nested dictionaries as follows: ..[.{(\\'pct\\',): ([], \\'0.750000008089\\')}, .{(u\\'gp\\',): (\\'balance\\', \\'\\')}, .{(u\\'uk\\', u\\'uz\\', u\\'uf\\', u\\'us\\', u\\'zu\\'): ([.    {(u\\'uk\\', u\\'uz\\'): (\\'balance\\', \\'\\')},.    {(u\\'uf\\', u\\'us\\', u\\'zu\\'): ([.        {(u\\'uf\\', u\\'us\\'): (\\'pro rata\\', \\'\\')}, .        {(u\\'zu\\',): (\\'zero\\', \\'\\')}, .        ], \\'\\')},.    {(u\\'uk\\', u\\'uz\\'): (\\'zero\\', \\'\\')},.    ], \\'\\')},  .{(u\\'gp\\',): (\\'zero\\', \\'\\')}, .{(u\\'gf\\',): (\\'zero\\', \\'0.249999991911\\')}.]...the final result can have any depth.  i\\'ve always struggled with recursive functions; i suspect there\\'s a relatively easy way to accomplish this.  i started with this: ..def populate_subrules(full_list, required_classes):.    for each_rule in full_list:.        this_key = each_rule.keys()[0].        if set(this_key).issubset(set(required_classes)) and set(this_key) != set(required_classes):.            if each_rule[this_key][0] != []:.                for idx, found in enumerate(full_list):.                    if found.keys()[0] == required_classes:.                        full_list[idx][required_classes][0].append(each_rule).                        # full_list.remove(each_rule).            else:.                populate_subrules(full_list, this_key).    return full_list...removing values from this list of course doesn\\'t work, and i\\'m not sure why i\\'m even returning the full_list.  the final result has two issues: the \"\"unneeded\"\" items remain (which is easy enough to remove from the final list), but more importantly, the middle section..{(u\\'uf\\', u\\'us\\', u\\'zu\\'): ([.    {(u\\'uf\\', u\\'us\\'): (\\'pro rata\\', \\'\\')}, .    {(u\\'zu\\',): (\\'zero\\', \\'\\')}, .    ], \\'\\')},...doesn\\'t get populated inside the bigger section, {(u\\'uk\\', u\\'uz\\', u\\'uf\\', u\\'us\\', u\\'zu\\')...at this point, i\\'m thinking of just removing \"\"unneeded\"\" items from the list after the \"\"recursive\"\" function is ran, and then trying to replace \"\"uf, us\"\" and \"\"zu\"\" inside {(u\\'uk\\', u\\'uz\\', u\\'uf\\', u\\'us\\', u\\'zu\\') with (u\\'uf\\', u\\'us\\', u\\'zu\\') and its values, but that\\'s not very recursive and generally pretty dumb...what am i missing in the implementation?\"\\n'\n",
            "3\n",
            "b'\"when i run my code it executes 0 0 0 0 0 0 0 0 0?   import blank.util.*;..  /*  for example, 371 is an armstrong number since 3**3 + 7**3 + 1**3 = 371. .   * write a program to find all armstrong number in the range of 0 and 999..   */...  public class armstrong {..    public static void main(string[] args) {.        int no=1,rem=1,mod=1,armstrong;.        //check for armstrong.        system.out.println(\"\"enter armstrong no to be checked: \"\");.        scanner sc=new scanner(system.in);.        no=sc.nextint();.        armstrong=no;.                while(no&gt;=0).                {.                    system.out.println(no);.                mod=no%10;.                system.out.println(no);.                rem=rem+(mod*mod*mod);.                system.out.println(no);.                no=no/10;.                system.out.println(no);.                }.                if(no==armstrong).                    system.out.println(\"\"it is armstrong no\"\");..      }..   }\"\\n'\n",
            "1\n",
            "b'\"resources to learn oop design patterns in regards to data driven applications hi i\\'m trying to find some good resources for using oop in the context of data driven applications.  i have a relativity firm grasp of oop i use objects, interfaces, and delegates quite often in my code.  however, i find more often then not in when i write data driven apps ( which is the bulk of my work right now ) i tend to veer to a functional approach.  this is mostly because i don\\'t know the right way to do it i guess...i\\'ve only been programming for about a year and recently i\\'ve been putting allot of time into trying to improve my knowledge of design patterns (i\\'m currently reading blank 3.0 design patterns watching the john skeet videos) and really writing unit test for everything.  however, i find that allot of examples that i see tend to not deal with data driven apps.  more with like truck inheritances from car stuff lol..so i was wondering if anyone could point me in the directions of some good videos, tutorials or even books on the subject ?\"\\n'\n",
            "0\n",
            "b'\"using an anonymous type in a try catch blank i have struggled with this for years and normally just code my way around it, but it is time to solve it...i am declaring a var that returns a new anon type and want to put it in a try/catch..however, doing that means it is out of scope and cannot be seen by later code obviously..normally i just declare it first, then wrap the code in the try/catch then reassign inside of it like:..int result = 0;..try.{.    result = 77; //real code goes here.}.catch (exception).{.    throw;.}...but here is my real code that i cannot figure out how to do something like that:...    try.    {.        var dt_stop = (from s in cdb.distributionstopinformations.                       join r in cdb.distributionrouteheaders on s.routecode equals r.routecode.                       where r.routedate == s.routedate &amp;&amp;.                       r.branchid == s.branchid &amp;&amp;.                       (r.companyno == companyno &amp;&amp; s.companyno == companyno).                       &amp;&amp; s.uniqueidno == uniqueid..                       select new.                       {.                           s,.                           r.                       }).single();.    }.    catch (exception).    { //no this will not be blank.        throw;.    }...update:.i do use dt_stop extensively after this, i am wanting to catch if there is a problem with it is assigned data...i created the following class:.. public class stopdata.{.    public distributionstopinformation s { get; set; }..    public distributionrouteheader r { get; set; }.}...then i attempt to use is like:.. stopdata dt_stop = null;..        try.        {.            dt_stop = (from s in cdb.distributionstopinformations.                       join r in cdb.distributionrouteheaders on s.routecode equals r.routecode.                       where r.routedate == s.routedate &amp;&amp;.                       r.branchid == s.branchid &amp;&amp;.                       (r.companyno == companyno &amp;&amp; s.companyno == companyno).                       &amp;&amp; s.uniqueidno == uniqueid..                       select new stopdata.                       {.                           s,.                           r.                       }).single();..        }.        catch (exception).        {.            //yes....there will be code here.            throw;.        }...i am getting.    cannot initialize type \\'stopdata\\' with a collection initializer because it does not implement \\'system.collections.ienumerable\\'\"\\n'\n",
            "0\n",
            "b'\"is there a way to send variables to blank files? is it possible to do something like this.to send the value id=3 to the js file..&lt;script src=\"\"http://site.com/js/loader.js?id=3\"\" .......otherwise what\\'s the approach to do that?\"\\n'\n",
            "2\n",
            "b'\"blank looking for a sortable array that handles both ints and strings i\\'m not really sure if what i\\'m looking for actually exists, so maybe you guys can help out...i have the below data:..apples|3211|12.markers|221|9.turtle|1023123123|22...the first column is always a string, the second column and third column are ints.  however, what i want to do is be able to reference theses as strings or ints, and then be able to sort via the third column asc.  any ideas?..something like mytable[i].column[i] and in this case mytable[1].column[2] would produce 12 as a int (because it\\'s ordered).\"\\n'\n",
            "0\n",
            "b'\"how many array objects will be created in blank can anyone help me to understand the number of objects created with the below snippet:..int[][] a= new int[4][3];  //with this line first....and, secondly if i re-initialize a with:..a = new int[3][7]; //finally with this line also....also, let me know if there is any tool to check the number of objects created in my complete application.\"\\n'\n",
            "1\n",
            "b'\"passing a list of values to a function sorry for such a silly question, but sitting in front of the comp for many hours makes my head overheated, in other words \\xe2\\x80\\x94 i\\'m totally confused. .my task is to define a function that takes a list of words and returns something..how can i define a function that will take a list of words? ..def function(list_of_words):.    do something...when running this script in blank idle we should suppose to write something like this:..&gt;&gt;&gt; def function(\\'this\\', \\'is\\', \\'a\\', \\'list\\', \\'of\\', \\'words\\')...but blank errors that the function takes one argument, and six (arguments) are given..i guess i should give my list a variable name, i.e. list_of_words = [\\'this\\', \\'is\\', \\'a\\', \\'list\\', \\'of\\', \\'words\\'], but ... how?\"\\n'\n",
            "3\n",
            "b'\"equals method to compare two trees i have been learning blank recently. and i created two trees. i need to write code(equals method) to compare two trees and if they are the same, then output true or false. ..my code:..public class treeprint {..    public static void main(string[] args) {..        tree&lt;string&gt; rootfolder = new tree&lt;&gt;(\"\"rootfolder\"\");..        node&lt;string&gt; video = rootfolder.addchild(\"\"video\"\");.        node&lt;string&gt; music = rootfolder.addchild(\"\"music\"\");.        node&lt;string&gt; picture = rootfolder.addchild(\"\"picture\"\");..        video.addchild(\"\"terminator\"\");.        video.addchild(\"\"die hard\"\");.        video.addchild(\"\"rocky\"\");.        music.addchild(\"\"eminem\"\");.        node&lt;string&gt; picture01 = picture.addchild(\"\"picasso\"\");.        picture01.addchild(\"\"do vinci\"\");.        node&lt;string&gt; picture02 = picture01.addchild(\"\"adil\"\");.        picture02.addchild(\"\"cartoon\"\");.        picture02.addchild(\"\"comics\"\");..         tree2&lt;string&gt; rootfolder1 = new tree2&lt;&gt;(\"\"rootfolder1\"\");..        node&lt;string&gt; video1 = rootfolder1.addchild(\"\"video\"\");.        node&lt;string&gt; music1 = rootfolder1.addchild(\"\"music\"\");.        node&lt;string&gt; picture1 = rootfolder1.addchild(\"\"picture\"\");..        video1.addchild(\"\"terminator\"\");.        video1.addchild(\"\"die hard\"\");.        video1.addchild(\"\"rocky\"\");.        music1.addchild(\"\"eminem\"\");.        node&lt;string&gt; picture001 = picture1.addchild(\"\"picasso\"\");.        picture001.addchild(\"\"do vinci\"\");.        node&lt;string&gt; picture002 = picture001.addchild(\"\"adil\"\");.        picture002.addchild(\"\"cartoon\"\");.        picture002.addchild(\"\"comics\"\");...        printtree(rootfolder);.        printtree(rootfolder1);...        boolean b1 = rootfolder.contains(\"\"p0\"\");.        system.out.println(b1);.        boolean b2 = rootfolder1.contains(\"\"eminem\"\");.        system.out.println(b2);.    }..    private static &lt;t&gt; void printtree(node&lt;t&gt; node) {.        printtree(node, 0);.    }..    private static &lt;t&gt; void printtree(node&lt;t&gt; node, int level) {.        printnode(node, level);.        if (node.getchildren() != null) {.            for (node childnode : node.getchildren()) {.                printtree(childnode, level + 1);.            }.        }.    }..    private static &lt;t&gt; void printnode(node&lt;t&gt; kid, int level) {..        for (int i = 0; i &lt; level; i++) {.            system.out.print(\"\"  \"\");.        }..        system.out.println(kid.getdata());.    }.}.....first tree:..public class tree&lt;t&gt; extends node&lt;t&gt; {..    public tree(t data) {..        super(data, null);.    }.    public boolean contains(t value) {.        return recurse(iterate(), value);.    }..    private boolean recurse(list&lt;node&lt;t&gt;&gt; children, t value) {.        return children.stream().                .anymatch(item -&gt; item.getdata().equals(value) || item.iterate().size() &gt; 0 &amp;&amp; recurse(item.iterate(), value));.    }...}.....public class node&lt;t&gt; {.    private t data;.    private final list&lt;node&lt;t&gt;&gt; children = new arraylist&lt;&gt;();.    private final node&lt;t&gt; parent;...    public node(t data, node&lt;t&gt; parent) {.        this.data = data;.        this.parent = parent;.    }..    public void addchild(node&lt;t&gt; node) {.        children.add(node);.    }...    public node&lt;t&gt; addchild(t nodedata) {..        node&lt;t&gt; newnode = new node&lt;t&gt;( nodedata, this ); .        children.add( newnode );.        return newnode;.    }...    public list&lt;node&lt;t&gt;&gt; iterate() {.        return children;.    }..    public void remove(node&lt;t&gt; node) {.        children.remove(node);.    }..    public list&lt;node&lt;t&gt;&gt; getchildren() {.        return children;.    }..    public node getparent() {.        return parent;.    }..    public t getdata() {.        return data;.    }..    public void setdata(t data) {.        this.data = data;.    }.....second tree:..public class tree2&lt;t&gt; extends node&lt;t&gt; {..    public tree2(t data) {..        super(data, null);.    }.    public boolean contains(t value) {.        return recurse(iterate(), value);.    }..    private boolean recurse(list&lt;node&lt;t&gt;&gt; children, t value) {.        return children.stream().                .anymatch(item -&gt; item.getdata().equals(value) || item.iterate().size() &gt; 0 &amp;&amp; recurse(item.iterate(), value));.    }.}\"\\n'\n",
            "1\n"
          ]
        }
      ]
    },
    {
      "cell_type": "code",
      "source": [
        "print(f\"0 is for {raw_train_ds.class_names[0]}\")\n",
        "print(f\"1 is for {raw_train_ds.class_names[1]}\")\n",
        "print(f\"2 is for {raw_train_ds.class_names[2]}\")\n",
        "print(f\"3 is for {raw_train_ds.class_names[3]}\")\n"
      ],
      "metadata": {
        "colab": {
          "base_uri": "https://localhost:8080/"
        },
        "id": "PpRt6eNYAkwW",
        "outputId": "66786b78-a77e-4992-df5b-d8bf7c9b3aa3"
      },
      "execution_count": 34,
      "outputs": [
        {
          "output_type": "stream",
          "name": "stdout",
          "text": [
            "0 is for csharp\n",
            "1 is for java\n",
            "2 is for javascript\n",
            "3 is for python\n"
          ]
        }
      ]
    },
    {
      "cell_type": "code",
      "source": [
        "raw_val_ds = tf.keras.utils.text_dataset_from_directory(\n",
        "    directory = train_dir,\n",
        "    validation_split = 0.2,\n",
        "    subset = \"validation\",\n",
        "    batch_size = 32,\n",
        "    seed = 32\n",
        ")"
      ],
      "metadata": {
        "colab": {
          "base_uri": "https://localhost:8080/"
        },
        "id": "unkr9XSH7Aw8",
        "outputId": "a700647f-db4f-4e30-fe32-7c564b6ebae0"
      },
      "execution_count": 17,
      "outputs": [
        {
          "output_type": "stream",
          "name": "stdout",
          "text": [
            "Found 8000 files belonging to 4 classes.\n",
            "Using 1600 files for validation.\n"
          ]
        }
      ]
    },
    {
      "cell_type": "code",
      "source": [
        "raw_test_ds = tf.keras.utils.text_dataset_from_directory(\n",
        "    directory = test_dir,\n",
        "    seed = 32,\n",
        "    batch_size = 32\n",
        ")"
      ],
      "metadata": {
        "colab": {
          "base_uri": "https://localhost:8080/"
        },
        "id": "WueSRsHM7Vx-",
        "outputId": "8b19d613-0df2-4131-9957-475e484e3a58"
      },
      "execution_count": 18,
      "outputs": [
        {
          "output_type": "stream",
          "name": "stdout",
          "text": [
            "Found 8000 files belonging to 4 classes.\n"
          ]
        }
      ]
    },
    {
      "cell_type": "code",
      "source": [
        "max_tokens = 10000\n",
        "vectorized_layer = tf.keras.layers.TextVectorization(\n",
        "    max_tokens = max_tokens,\n",
        "    output_sequence_length = 250\n",
        ")\n",
        "\n",
        "train = raw_train_ds.map(lambda x,y : x)\n",
        "vectorized_layer.adapt(train)"
      ],
      "metadata": {
        "id": "F73WWux-7o9c"
      },
      "execution_count": 20,
      "outputs": []
    },
    {
      "cell_type": "code",
      "source": [
        "def vectorized_text(text, label):\n",
        "  text = tf.expand_dims(text, -1)\n",
        "  return vectorized_layer(text), label"
      ],
      "metadata": {
        "id": "ui0OqIVY8Ui2"
      },
      "execution_count": 21,
      "outputs": []
    },
    {
      "cell_type": "code",
      "source": [
        "train_ds = raw_train_ds.map(vectorized_text)\n",
        "val_ds = raw_val_ds.map(vectorized_text)\n",
        "test_ds = raw_test_ds.map(vectorized_text)"
      ],
      "metadata": {
        "id": "_UtTF69o8z8U"
      },
      "execution_count": 22,
      "outputs": []
    },
    {
      "cell_type": "markdown",
      "source": [
        "#`Defining the model`"
      ],
      "metadata": {
        "id": "ByguzKb0IZ48"
      }
    },
    {
      "cell_type": "code",
      "source": [
        "model = tf.keras.Sequential([\n",
        "    tf.keras.layers.Embedding(max_tokens+1, 16),\n",
        "    tf.keras.layers.Dropout(0.2),\n",
        "    tf.keras.layers.GlobalAveragePooling1D(),\n",
        "    tf.keras.layers.Dropout(0.2),\n",
        "    tf.keras.layers.Dense(units = 4)\n",
        "])"
      ],
      "metadata": {
        "id": "NkFhF8MF9hlQ"
      },
      "execution_count": 23,
      "outputs": []
    },
    {
      "cell_type": "code",
      "source": [
        "model.summary()"
      ],
      "metadata": {
        "colab": {
          "base_uri": "https://localhost:8080/"
        },
        "id": "Uki52PyT-EO6",
        "outputId": "7389dd15-c43d-4707-aa88-d1b6093707ff"
      },
      "execution_count": 24,
      "outputs": [
        {
          "output_type": "stream",
          "name": "stdout",
          "text": [
            "Model: \"sequential\"\n",
            "_________________________________________________________________\n",
            " Layer (type)                Output Shape              Param #   \n",
            "=================================================================\n",
            " embedding (Embedding)       (None, None, 16)          160016    \n",
            "                                                                 \n",
            " dropout (Dropout)           (None, None, 16)          0         \n",
            "                                                                 \n",
            " global_average_pooling1d (G  (None, 16)               0         \n",
            " lobalAveragePooling1D)                                          \n",
            "                                                                 \n",
            " dropout_1 (Dropout)         (None, 16)                0         \n",
            "                                                                 \n",
            " dense (Dense)               (None, 4)                 68        \n",
            "                                                                 \n",
            "=================================================================\n",
            "Total params: 160,084\n",
            "Trainable params: 160,084\n",
            "Non-trainable params: 0\n",
            "_________________________________________________________________\n"
          ]
        }
      ]
    },
    {
      "cell_type": "code",
      "source": [
        "loss = tf.keras.losses.SparseCategoricalCrossentropy(from_logits=True)\n",
        "optimizer = tf.keras.optimizers.Adam()"
      ],
      "metadata": {
        "id": "sb0rzue2-GrQ"
      },
      "execution_count": 25,
      "outputs": []
    },
    {
      "cell_type": "markdown",
      "source": [
        "#`Fitting the model`"
      ],
      "metadata": {
        "id": "r0HhRGF1IiCr"
      }
    },
    {
      "cell_type": "code",
      "source": [
        "model.compile(\n",
        "    optimizer = optimizer,\n",
        "    loss = loss,\n",
        "    metrics = [\"accuracy\"]\n",
        ")"
      ],
      "metadata": {
        "id": "LjvArBzE-wbu"
      },
      "execution_count": 26,
      "outputs": []
    },
    {
      "cell_type": "code",
      "source": [
        "history = model.fit(\n",
        "    train_ds,\n",
        "    validation_data = val_ds,\n",
        "    epochs = 20\n",
        ")"
      ],
      "metadata": {
        "colab": {
          "base_uri": "https://localhost:8080/"
        },
        "id": "HBqcLzzg-55G",
        "outputId": "93fdef2b-e352-4bbf-d923-19c56a930d16"
      },
      "execution_count": 27,
      "outputs": [
        {
          "output_type": "stream",
          "name": "stdout",
          "text": [
            "Epoch 1/20\n",
            "200/200 [==============================] - 4s 18ms/step - loss: 1.3801 - accuracy: 0.3341 - val_loss: 1.3701 - val_accuracy: 0.3819\n",
            "Epoch 2/20\n",
            "200/200 [==============================] - 4s 18ms/step - loss: 1.3518 - accuracy: 0.4916 - val_loss: 1.3311 - val_accuracy: 0.5612\n",
            "Epoch 3/20\n",
            "200/200 [==============================] - 3s 17ms/step - loss: 1.2980 - accuracy: 0.5458 - val_loss: 1.2713 - val_accuracy: 0.5969\n",
            "Epoch 4/20\n",
            "200/200 [==============================] - 3s 17ms/step - loss: 1.2267 - accuracy: 0.5880 - val_loss: 1.1990 - val_accuracy: 0.6244\n",
            "Epoch 5/20\n",
            "200/200 [==============================] - 4s 17ms/step - loss: 1.1481 - accuracy: 0.6370 - val_loss: 1.1252 - val_accuracy: 0.6669\n",
            "Epoch 6/20\n",
            "200/200 [==============================] - 3s 17ms/step - loss: 1.0695 - accuracy: 0.6783 - val_loss: 1.0573 - val_accuracy: 0.6950\n",
            "Epoch 7/20\n",
            "200/200 [==============================] - 4s 18ms/step - loss: 0.9978 - accuracy: 0.7144 - val_loss: 0.9941 - val_accuracy: 0.7119\n",
            "Epoch 8/20\n",
            "200/200 [==============================] - 3s 17ms/step - loss: 0.9310 - accuracy: 0.7400 - val_loss: 0.9408 - val_accuracy: 0.7256\n",
            "Epoch 9/20\n",
            "200/200 [==============================] - 4s 17ms/step - loss: 0.8722 - accuracy: 0.7539 - val_loss: 0.8950 - val_accuracy: 0.7394\n",
            "Epoch 10/20\n",
            "200/200 [==============================] - 3s 17ms/step - loss: 0.8206 - accuracy: 0.7767 - val_loss: 0.8535 - val_accuracy: 0.7437\n",
            "Epoch 11/20\n",
            "200/200 [==============================] - 4s 17ms/step - loss: 0.7754 - accuracy: 0.7834 - val_loss: 0.8195 - val_accuracy: 0.7544\n",
            "Epoch 12/20\n",
            "200/200 [==============================] - 4s 17ms/step - loss: 0.7350 - accuracy: 0.7984 - val_loss: 0.7886 - val_accuracy: 0.7575\n",
            "Epoch 13/20\n",
            "200/200 [==============================] - 4s 19ms/step - loss: 0.6972 - accuracy: 0.8089 - val_loss: 0.7639 - val_accuracy: 0.7656\n",
            "Epoch 14/20\n",
            "200/200 [==============================] - 3s 17ms/step - loss: 0.6673 - accuracy: 0.8169 - val_loss: 0.7418 - val_accuracy: 0.7638\n",
            "Epoch 15/20\n",
            "200/200 [==============================] - 4s 18ms/step - loss: 0.6355 - accuracy: 0.8278 - val_loss: 0.7205 - val_accuracy: 0.7619\n",
            "Epoch 16/20\n",
            "200/200 [==============================] - 3s 17ms/step - loss: 0.6062 - accuracy: 0.8322 - val_loss: 0.7014 - val_accuracy: 0.7656\n",
            "Epoch 17/20\n",
            "200/200 [==============================] - 4s 18ms/step - loss: 0.5816 - accuracy: 0.8444 - val_loss: 0.6829 - val_accuracy: 0.7725\n",
            "Epoch 18/20\n",
            "200/200 [==============================] - 4s 18ms/step - loss: 0.5598 - accuracy: 0.8475 - val_loss: 0.6725 - val_accuracy: 0.7706\n",
            "Epoch 19/20\n",
            "200/200 [==============================] - 4s 17ms/step - loss: 0.5378 - accuracy: 0.8544 - val_loss: 0.6550 - val_accuracy: 0.7788\n",
            "Epoch 20/20\n",
            "200/200 [==============================] - 4s 18ms/step - loss: 0.5193 - accuracy: 0.8594 - val_loss: 0.6452 - val_accuracy: 0.7794\n"
          ]
        }
      ]
    },
    {
      "cell_type": "code",
      "source": [
        "history.history.keys()"
      ],
      "metadata": {
        "colab": {
          "base_uri": "https://localhost:8080/"
        },
        "id": "0Y6OZPxU_aD8",
        "outputId": "efa47503-e654-4fea-f3d7-8a945261ba22"
      },
      "execution_count": 28,
      "outputs": [
        {
          "output_type": "execute_result",
          "data": {
            "text/plain": [
              "dict_keys(['loss', 'accuracy', 'val_loss', 'val_accuracy'])"
            ]
          },
          "metadata": {},
          "execution_count": 28
        }
      ]
    },
    {
      "cell_type": "code",
      "source": [
        "plt.plot(history.history[\"accuracy\"], color = \"blue\", label = \"accuracy\")\n",
        "plt.plot(history.history[\"val_accuracy\"], \"ro\", label =\"val_accuracy\")\n",
        "plt.xlabel(\"epochs\")\n",
        "plt.legend()\n",
        "plt.show()"
      ],
      "metadata": {
        "colab": {
          "base_uri": "https://localhost:8080/",
          "height": 279
        },
        "id": "Ax6mWuQa_3zL",
        "outputId": "5100fa53-e850-45b6-97d3-eb8686ed1bf8"
      },
      "execution_count": 41,
      "outputs": [
        {
          "output_type": "display_data",
          "data": {
            "text/plain": [
              "<Figure size 432x288 with 1 Axes>"
            ],
            "image/png": "[encoded data removed]"
          },
          "metadata": {
            "needs_background": "light"
          }
        }
      ]
    },
    {
      "cell_type": "code",
      "source": [
        "plt.plot(history.history[\"loss\"], color = \"red\", label = \"loss\")\n",
        "plt.plot(history.history[\"val_loss\"], \"bo\", label = \"val_loss\")\n",
        "plt.xlabel(\"epochs\")\n",
        "plt.legend()\n",
        "plt.show()"
      ],
      "metadata": {
        "colab": {
          "base_uri": "https://localhost:8080/",
          "height": 279
        },
        "id": "74iDt1-nBYXn",
        "outputId": "8bca9225-40dd-4c58-90ea-5b152f210e52"
      },
      "execution_count": 42,
      "outputs": [
        {
          "output_type": "display_data",
          "data": {
            "text/plain": [
              "<Figure size 432x288 with 1 Axes>"
            ],
            "image/png": "[encoded data removed]"
          },
          "metadata": {
            "needs_background": "light"
          }
        }
      ]
    },
    {
      "cell_type": "code",
      "source": [
        "loss, accuracy = model.evaluate(test_ds)\n",
        "print(f\"loss is {loss}\")\n",
        "print(f\"accuracy is {accuracy} \")"
      ],
      "metadata": {
        "colab": {
          "base_uri": "https://localhost:8080/"
        },
        "id": "cNjfXUjKD6E1",
        "outputId": "518d50a1-edc7-4d15-de12-1bd8f57c0ae7"
      },
      "execution_count": 44,
      "outputs": [
        {
          "output_type": "stream",
          "name": "stdout",
          "text": [
            "250/250 [==============================] - 3s 11ms/step - loss: 0.6385 - accuracy: 0.7805\n",
            "loss is 0.6384689807891846\n",
            "accuracy is 0.7804999947547913 \n"
          ]
        }
      ]
    },
    {
      "cell_type": "code",
      "source": [
        "model.save(\"txt.h5\")"
      ],
      "metadata": {
        "id": "yBmavoa1CFyA"
      },
      "execution_count": 43,
      "outputs": []
    }
  ]
}